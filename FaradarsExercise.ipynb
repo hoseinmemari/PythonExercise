{
 "cells": [
  {
   "cell_type": "markdown",
   "metadata": {},
   "source": [
    "در این تمرین قرار است تا عملیات ریاضی ضرب و جمع ۲ عدد را محاسبه کنیم. ۲ عدد صحیح داده می‌شود. ضرب این ۲ عدد، تنها در صورتی‌که کمتر از ۱۰۰ شود، برگردانده شده، در غیر این‌صورت مجموع این ۲ عدد چاپ می‌شود."
   ]
  },
  {
   "cell_type": "code",
   "execution_count": 2,
   "metadata": {},
   "outputs": [
    {
     "name": "stdout",
     "output_type": "stream",
     "text": [
      "30\n"
     ]
    }
   ],
   "source": [
    "a = int(input('Please wite the first number'))\n",
    "b = int(input('Please wite the second number'))\n",
    "\n",
    "def isHigh(x , y):\n",
    "    if x * y >= 100:\n",
    "        return True\n",
    "    else:\n",
    "        return False\n",
    "    \n",
    "if isHigh(a,b):\n",
    "    print(a+b)\n",
    "else:\n",
    "    print(a*b)"
   ]
  },
  {
   "cell_type": "markdown",
   "metadata": {},
   "source": [
    "در این تمرین، قصد نوشتن برنامه‌ای را داریم که ۱۰ عدد را پیمایش و در هر تکرار، مجموع عدد فعلی و قبلی را چاپ کند."
   ]
  },
  {
   "cell_type": "code",
   "execution_count": 6,
   "metadata": {},
   "outputs": [
    {
     "name": "stdout",
     "output_type": "stream",
     "text": [
      "Current number is 1 and prev number is 0 and sum is 1\n",
      "Current number is 2 and prev number is 1 and sum is 3\n",
      "Current number is 3 and prev number is 2 and sum is 5\n",
      "Current number is 4 and prev number is 3 and sum is 7\n",
      "Current number is 5 and prev number is 4 and sum is 9\n",
      "Current number is 6 and prev number is 5 and sum is 11\n",
      "Current number is 7 and prev number is 6 and sum is 13\n",
      "Current number is 8 and prev number is 7 and sum is 15\n",
      "Current number is 9 and prev number is 8 and sum is 17\n",
      "Current number is 10 and prev number is 9 and sum is 19\n"
     ]
    }
   ],
   "source": [
    "numbers = [1,2,3,4,5,6,7,8,9,10]\n",
    "\n",
    "prevNum = 0\n",
    "\n",
    "for i in numbers:\n",
    "    sumNumbers = i + prevNum\n",
    "    print(f'Current number is {i} and prev number is {prevNum} and sum is {sumNumbers}')\n",
    "    prevNum = i"
   ]
  },
  {
   "cell_type": "markdown",
   "metadata": {},
   "source": [
    "در این تمرین، می‌خواهیم کدهای برنامه‌ای را بنویسیم که رشته‌ای را از کاربر دریافت کرده و کاراکترهایی از آن را نمایش می‌هد که در موقعیت ایندکس زوجی واقع شده‌اند. لازم به یاد‌آوری است که شماره ایندکس توالی‌ها در پایتون، از صفر شروع می‌شود. به‌طور مثال، رشته‌ای با نام و مقدار str = \"divanairuop\"  داریم. برنامه‌ای که می‌نویسیم، باید بتواند کاراکترهای d  ، v  ، n  ، i  و غیره - که ایندکس آن‌ها عددی زوج است - را چاپ کند."
   ]
  },
  {
   "cell_type": "code",
   "execution_count": 8,
   "metadata": {},
   "outputs": [
    {
     "name": "stdout",
     "output_type": "stream",
     "text": [
      "H  , \n",
      "l  , \n",
      "o  , \n",
      "w  , \n",
      "r  , \n",
      "d  , \n"
     ]
    }
   ],
   "source": [
    "char = str(input(\"Please write your string\"))\n",
    "\n",
    "for i in range(0,len(char) , 2):\n",
    "    print(char[i] , ' , ')"
   ]
  },
  {
   "cell_type": "markdown",
   "metadata": {},
   "source": [
    "در این تمرین، قصد نوشتن برنامه را داریم که کاراکترهایی را از یک رشته حذف کند. به این‌صورت که از کاراکتر اول شروع کرده و تا موقعیت n  پیش‌می‌رود و در نهایت، رشته جدید را بر می‌گرداند."
   ]
  },
  {
   "cell_type": "code",
   "execution_count": 9,
   "metadata": {},
   "outputs": [
    {
     "name": "stdout",
     "output_type": "stream",
     "text": [
      "airuop\n"
     ]
    }
   ],
   "source": [
    "def removeChars(character, num):\n",
    "    if num> len(character):\n",
    "        print('Not valid number')\n",
    "    else:\n",
    "        print(character[num:])\n",
    "\n",
    "C = str(input(\"Please write your string\"))\n",
    "N = int(input(\"Please write the character number you want to remove\"))\n",
    "removeChars(C , N)"
   ]
  },
  {
   "cell_type": "code",
   "execution_count": null,
   "metadata": {},
   "outputs": [],
   "source": []
  }
 ],
 "metadata": {
  "kernelspec": {
   "display_name": "Python 3",
   "language": "python",
   "name": "python3"
  },
  "language_info": {
   "codemirror_mode": {
    "name": "ipython",
    "version": 3
   },
   "file_extension": ".py",
   "mimetype": "text/x-python",
   "name": "python",
   "nbconvert_exporter": "python",
   "pygments_lexer": "ipython3",
   "version": "3.12.2"
  }
 },
 "nbformat": 4,
 "nbformat_minor": 2
}
